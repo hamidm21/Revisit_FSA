{
 "cells": [
  {
   "cell_type": "code",
   "execution_count": 31,
   "metadata": {},
   "outputs": [],
   "source": [
    "import pandas as pd\n",
    "import numpy as np\n",
    "import matplotlib.pyplot as plt\n",
    "from datetime import datetime\n",
    "import time"
   ]
  },
  {
   "cell_type": "markdown",
   "metadata": {},
   "source": [
    "# preparing the dataFrames\n"
   ]
  },
  {
   "cell_type": "code",
   "execution_count": 11,
   "metadata": {},
   "outputs": [],
   "source": [
    "intervals = np.load('resampled_sentiment.npy',allow_pickle='TRUE').item()"
   ]
  },
  {
   "cell_type": "code",
   "execution_count": 35,
   "metadata": {},
   "outputs": [
    {
     "data": {
      "text/plain": [
       "{'5min':                      negative   neutral  positive  compound  text\n",
       " date                                                             \n",
       " 2021-07-17 12:00:00  0.033583  0.865492  0.100947  0.193783   132\n",
       " 2021-07-17 12:05:00  0.040397  0.841904  0.117685  0.221316    73\n",
       " 2021-07-17 12:10:00  0.050427  0.852844  0.096729  0.158877    96\n",
       " 2021-07-17 12:15:00  0.035825  0.885587  0.078575  0.153381    80\n",
       " 2021-07-17 12:20:00  0.038988  0.852361  0.108675  0.185848    83\n",
       " ...                       ...       ...       ...       ...   ...\n",
       " 2021-07-29 23:35:00  0.039108  0.853009  0.107883  0.224949   111\n",
       " 2021-07-29 23:40:00  0.024989  0.895076  0.079946  0.153538    92\n",
       " 2021-07-29 23:45:00  0.022383  0.857878  0.119730  0.275984   115\n",
       " 2021-07-29 23:50:00  0.041355  0.845645  0.112991  0.209935   107\n",
       " 2021-07-29 23:55:00  0.043422  0.815256  0.141322  0.269669    90\n",
       " \n",
       " [3600 rows x 5 columns],\n",
       " '15min':                      negative   neutral  positive  compound  text\n",
       " date                                                             \n",
       " 2021-07-17 12:00:00  0.040608  0.855738  0.103661  0.189328   301\n",
       " 2021-07-17 12:15:00  0.037047  0.857318  0.105627  0.197880   236\n",
       " 2021-07-17 12:30:00  0.033877  0.851897  0.114212  0.243199   203\n",
       " 2021-07-17 12:45:00  0.028573  0.862114  0.109314  0.231455   220\n",
       " 2021-07-17 13:00:00  0.034304  0.861112  0.104580  0.213590   286\n",
       " ...                       ...       ...       ...       ...   ...\n",
       " 2021-07-29 22:45:00  0.024067  0.863876  0.112067  0.275503    89\n",
       " 2021-07-29 23:00:00  0.022223  0.881886  0.095897  0.212722   184\n",
       " 2021-07-29 23:15:00  0.025636  0.899855  0.074514  0.131996   173\n",
       " 2021-07-29 23:30:00  0.030263  0.870711  0.099026  0.209037   270\n",
       " 2021-07-29 23:45:00  0.034958  0.841388  0.123647  0.251511   312\n",
       " \n",
       " [1200 rows x 5 columns],\n",
       " '30min':                      negative   neutral  positive  compound  text\n",
       " date                                                             \n",
       " 2021-07-17 12:00:00  0.039043  0.856432  0.104525  0.193086   537\n",
       " 2021-07-17 12:30:00  0.031118  0.857210  0.111664  0.237091   423\n",
       " 2021-07-17 13:00:00  0.036951  0.849887  0.113150  0.217370   486\n",
       " 2021-07-17 13:30:00  0.043019  0.846616  0.110315  0.254052   578\n",
       " 2021-07-17 14:00:00  0.032352  0.851428  0.116223  0.283812   645\n",
       " ...                       ...       ...       ...       ...   ...\n",
       " 2021-07-29 21:30:00  0.028908  0.858473  0.112612  0.258395   260\n",
       " 2021-07-29 22:00:00  0.018121  0.878659  0.103210  0.288718   290\n",
       " 2021-07-29 22:30:00  0.023540  0.851925  0.124535  0.318130   187\n",
       " 2021-07-29 23:00:00  0.023877  0.890594  0.085535  0.173603   357\n",
       " 2021-07-29 23:30:00  0.032780  0.854991  0.112225  0.231807   582\n",
       " \n",
       " [600 rows x 5 columns],\n",
       " 'h':                      negative   neutral  positive  compound  text\n",
       " date                                                             \n",
       " 2021-07-17 12:00:00  0.035551  0.856775  0.107671  0.212476   960\n",
       " 2021-07-17 13:00:00  0.040247  0.848110  0.111610  0.237297  1064\n",
       " 2021-07-17 14:00:00  0.035694  0.843100  0.121208  0.287545  1247\n",
       " 2021-07-17 15:00:00  0.030764  0.834260  0.134966  0.316867  1223\n",
       " 2021-07-17 16:00:00  0.031505  0.837822  0.130668  0.287229  1241\n",
       " ...                       ...       ...       ...       ...   ...\n",
       " 2021-07-29 19:00:00  0.023090  0.862822  0.114080  0.290982   724\n",
       " 2021-07-29 20:00:00  0.020093  0.873400  0.106510  0.286185   625\n",
       " 2021-07-29 21:00:00  0.025932  0.862483  0.111586  0.274966   497\n",
       " 2021-07-29 22:00:00  0.020245  0.868178  0.111570  0.300249   477\n",
       " 2021-07-29 23:00:00  0.029395  0.868527  0.102078  0.209678   939\n",
       " \n",
       " [300 rows x 5 columns]}"
      ]
     },
     "execution_count": 35,
     "metadata": {},
     "output_type": "execute_result"
    }
   ],
   "source": [
    "intervals"
   ]
  },
  {
   "cell_type": "code",
   "execution_count": 21,
   "metadata": {},
   "outputs": [],
   "source": [
    "price_1H = pd.read_csv('3600-sliced.csv')\n",
    "price_30m = pd.read_csv('1800-sliced.csv')"
   ]
  },
  {
   "cell_type": "code",
   "execution_count": 22,
   "metadata": {},
   "outputs": [
    {
     "data": {
      "text/html": [
       "<div>\n",
       "<style scoped>\n",
       "    .dataframe tbody tr th:only-of-type {\n",
       "        vertical-align: middle;\n",
       "    }\n",
       "\n",
       "    .dataframe tbody tr th {\n",
       "        vertical-align: top;\n",
       "    }\n",
       "\n",
       "    .dataframe thead th {\n",
       "        text-align: right;\n",
       "    }\n",
       "</style>\n",
       "<table border=\"1\" class=\"dataframe\">\n",
       "  <thead>\n",
       "    <tr style=\"text-align: right;\">\n",
       "      <th></th>\n",
       "      <th>Unnamed: 0</th>\n",
       "      <th>timestamp</th>\n",
       "      <th>open</th>\n",
       "      <th>high</th>\n",
       "      <th>low</th>\n",
       "      <th>close</th>\n",
       "      <th>volume</th>\n",
       "      <th>trade</th>\n",
       "    </tr>\n",
       "  </thead>\n",
       "  <tbody>\n",
       "    <tr>\n",
       "      <th>0</th>\n",
       "      <td>15868</td>\n",
       "      <td>1626523200</td>\n",
       "      <td>31377.01</td>\n",
       "      <td>31570.00</td>\n",
       "      <td>31330.12</td>\n",
       "      <td>31489.01</td>\n",
       "      <td>14325.922</td>\n",
       "      <td>116879</td>\n",
       "    </tr>\n",
       "    <tr>\n",
       "      <th>1</th>\n",
       "      <td>15869</td>\n",
       "      <td>1626526800</td>\n",
       "      <td>31489.00</td>\n",
       "      <td>31750.00</td>\n",
       "      <td>31329.00</td>\n",
       "      <td>31607.99</td>\n",
       "      <td>29114.409</td>\n",
       "      <td>214698</td>\n",
       "    </tr>\n",
       "    <tr>\n",
       "      <th>2</th>\n",
       "      <td>15870</td>\n",
       "      <td>1626530400</td>\n",
       "      <td>31607.99</td>\n",
       "      <td>31738.83</td>\n",
       "      <td>31572.00</td>\n",
       "      <td>31622.35</td>\n",
       "      <td>15550.348</td>\n",
       "      <td>125076</td>\n",
       "    </tr>\n",
       "    <tr>\n",
       "      <th>3</th>\n",
       "      <td>15871</td>\n",
       "      <td>1626534000</td>\n",
       "      <td>31621.48</td>\n",
       "      <td>31750.00</td>\n",
       "      <td>31433.72</td>\n",
       "      <td>31737.92</td>\n",
       "      <td>23013.314</td>\n",
       "      <td>164851</td>\n",
       "    </tr>\n",
       "    <tr>\n",
       "      <th>4</th>\n",
       "      <td>15872</td>\n",
       "      <td>1626537600</td>\n",
       "      <td>31737.87</td>\n",
       "      <td>31849.00</td>\n",
       "      <td>31614.72</td>\n",
       "      <td>31677.24</td>\n",
       "      <td>24002.979</td>\n",
       "      <td>174697</td>\n",
       "    </tr>\n",
       "    <tr>\n",
       "      <th>...</th>\n",
       "      <td>...</td>\n",
       "      <td>...</td>\n",
       "      <td>...</td>\n",
       "      <td>...</td>\n",
       "      <td>...</td>\n",
       "      <td>...</td>\n",
       "      <td>...</td>\n",
       "      <td>...</td>\n",
       "    </tr>\n",
       "    <tr>\n",
       "      <th>296</th>\n",
       "      <td>16164</td>\n",
       "      <td>1627588800</td>\n",
       "      <td>39647.85</td>\n",
       "      <td>39830.00</td>\n",
       "      <td>39600.00</td>\n",
       "      <td>39715.49</td>\n",
       "      <td>7881.098</td>\n",
       "      <td>102117</td>\n",
       "    </tr>\n",
       "    <tr>\n",
       "      <th>297</th>\n",
       "      <td>16165</td>\n",
       "      <td>1627592400</td>\n",
       "      <td>39715.49</td>\n",
       "      <td>39761.11</td>\n",
       "      <td>39465.66</td>\n",
       "      <td>39522.27</td>\n",
       "      <td>9108.069</td>\n",
       "      <td>107487</td>\n",
       "    </tr>\n",
       "    <tr>\n",
       "      <th>298</th>\n",
       "      <td>16166</td>\n",
       "      <td>1627596000</td>\n",
       "      <td>39522.61</td>\n",
       "      <td>39812.34</td>\n",
       "      <td>39506.81</td>\n",
       "      <td>39773.85</td>\n",
       "      <td>9615.746</td>\n",
       "      <td>111277</td>\n",
       "    </tr>\n",
       "    <tr>\n",
       "      <th>299</th>\n",
       "      <td>16167</td>\n",
       "      <td>1627599600</td>\n",
       "      <td>39773.85</td>\n",
       "      <td>40400.00</td>\n",
       "      <td>39757.00</td>\n",
       "      <td>40012.90</td>\n",
       "      <td>31826.597</td>\n",
       "      <td>281361</td>\n",
       "    </tr>\n",
       "    <tr>\n",
       "      <th>300</th>\n",
       "      <td>16168</td>\n",
       "      <td>1627603200</td>\n",
       "      <td>40012.89</td>\n",
       "      <td>40133.13</td>\n",
       "      <td>39754.00</td>\n",
       "      <td>39900.00</td>\n",
       "      <td>15458.726</td>\n",
       "      <td>159159</td>\n",
       "    </tr>\n",
       "  </tbody>\n",
       "</table>\n",
       "<p>301 rows × 8 columns</p>\n",
       "</div>"
      ],
      "text/plain": [
       "     Unnamed: 0   timestamp      open      high       low     close  \\\n",
       "0         15868  1626523200  31377.01  31570.00  31330.12  31489.01   \n",
       "1         15869  1626526800  31489.00  31750.00  31329.00  31607.99   \n",
       "2         15870  1626530400  31607.99  31738.83  31572.00  31622.35   \n",
       "3         15871  1626534000  31621.48  31750.00  31433.72  31737.92   \n",
       "4         15872  1626537600  31737.87  31849.00  31614.72  31677.24   \n",
       "..          ...         ...       ...       ...       ...       ...   \n",
       "296       16164  1627588800  39647.85  39830.00  39600.00  39715.49   \n",
       "297       16165  1627592400  39715.49  39761.11  39465.66  39522.27   \n",
       "298       16166  1627596000  39522.61  39812.34  39506.81  39773.85   \n",
       "299       16167  1627599600  39773.85  40400.00  39757.00  40012.90   \n",
       "300       16168  1627603200  40012.89  40133.13  39754.00  39900.00   \n",
       "\n",
       "        volume   trade  \n",
       "0    14325.922  116879  \n",
       "1    29114.409  214698  \n",
       "2    15550.348  125076  \n",
       "3    23013.314  164851  \n",
       "4    24002.979  174697  \n",
       "..         ...     ...  \n",
       "296   7881.098  102117  \n",
       "297   9108.069  107487  \n",
       "298   9615.746  111277  \n",
       "299  31826.597  281361  \n",
       "300  15458.726  159159  \n",
       "\n",
       "[301 rows x 8 columns]"
      ]
     },
     "execution_count": 22,
     "metadata": {},
     "output_type": "execute_result"
    }
   ],
   "source": [
    "price_1H"
   ]
  },
  {
   "cell_type": "code",
   "execution_count": 23,
   "metadata": {},
   "outputs": [],
   "source": [
    "price_1H['date'] = price_1H.timestamp.apply(lambda x: datetime.fromtimestamp(x))\n",
    "price_30m['date'] = price_30m.timestamp.apply(lambda x: datetime.fromtimestamp(x))"
   ]
  },
  {
   "cell_type": "code",
   "execution_count": 24,
   "metadata": {},
   "outputs": [
    {
     "data": {
      "text/html": [
       "<div>\n",
       "<style scoped>\n",
       "    .dataframe tbody tr th:only-of-type {\n",
       "        vertical-align: middle;\n",
       "    }\n",
       "\n",
       "    .dataframe tbody tr th {\n",
       "        vertical-align: top;\n",
       "    }\n",
       "\n",
       "    .dataframe thead th {\n",
       "        text-align: right;\n",
       "    }\n",
       "</style>\n",
       "<table border=\"1\" class=\"dataframe\">\n",
       "  <thead>\n",
       "    <tr style=\"text-align: right;\">\n",
       "      <th></th>\n",
       "      <th>Unnamed: 0</th>\n",
       "      <th>timestamp</th>\n",
       "      <th>open</th>\n",
       "      <th>high</th>\n",
       "      <th>low</th>\n",
       "      <th>close</th>\n",
       "      <th>volume</th>\n",
       "      <th>trade</th>\n",
       "      <th>date</th>\n",
       "    </tr>\n",
       "  </thead>\n",
       "  <tbody>\n",
       "    <tr>\n",
       "      <th>0</th>\n",
       "      <td>15868</td>\n",
       "      <td>1626523200</td>\n",
       "      <td>31377.01</td>\n",
       "      <td>31570.00</td>\n",
       "      <td>31330.12</td>\n",
       "      <td>31489.01</td>\n",
       "      <td>14325.922</td>\n",
       "      <td>116879</td>\n",
       "      <td>2021-07-17 15:30:00</td>\n",
       "    </tr>\n",
       "    <tr>\n",
       "      <th>1</th>\n",
       "      <td>15869</td>\n",
       "      <td>1626526800</td>\n",
       "      <td>31489.00</td>\n",
       "      <td>31750.00</td>\n",
       "      <td>31329.00</td>\n",
       "      <td>31607.99</td>\n",
       "      <td>29114.409</td>\n",
       "      <td>214698</td>\n",
       "      <td>2021-07-17 16:30:00</td>\n",
       "    </tr>\n",
       "    <tr>\n",
       "      <th>2</th>\n",
       "      <td>15870</td>\n",
       "      <td>1626530400</td>\n",
       "      <td>31607.99</td>\n",
       "      <td>31738.83</td>\n",
       "      <td>31572.00</td>\n",
       "      <td>31622.35</td>\n",
       "      <td>15550.348</td>\n",
       "      <td>125076</td>\n",
       "      <td>2021-07-17 17:30:00</td>\n",
       "    </tr>\n",
       "    <tr>\n",
       "      <th>3</th>\n",
       "      <td>15871</td>\n",
       "      <td>1626534000</td>\n",
       "      <td>31621.48</td>\n",
       "      <td>31750.00</td>\n",
       "      <td>31433.72</td>\n",
       "      <td>31737.92</td>\n",
       "      <td>23013.314</td>\n",
       "      <td>164851</td>\n",
       "      <td>2021-07-17 18:30:00</td>\n",
       "    </tr>\n",
       "    <tr>\n",
       "      <th>4</th>\n",
       "      <td>15872</td>\n",
       "      <td>1626537600</td>\n",
       "      <td>31737.87</td>\n",
       "      <td>31849.00</td>\n",
       "      <td>31614.72</td>\n",
       "      <td>31677.24</td>\n",
       "      <td>24002.979</td>\n",
       "      <td>174697</td>\n",
       "      <td>2021-07-17 19:30:00</td>\n",
       "    </tr>\n",
       "    <tr>\n",
       "      <th>...</th>\n",
       "      <td>...</td>\n",
       "      <td>...</td>\n",
       "      <td>...</td>\n",
       "      <td>...</td>\n",
       "      <td>...</td>\n",
       "      <td>...</td>\n",
       "      <td>...</td>\n",
       "      <td>...</td>\n",
       "      <td>...</td>\n",
       "    </tr>\n",
       "    <tr>\n",
       "      <th>296</th>\n",
       "      <td>16164</td>\n",
       "      <td>1627588800</td>\n",
       "      <td>39647.85</td>\n",
       "      <td>39830.00</td>\n",
       "      <td>39600.00</td>\n",
       "      <td>39715.49</td>\n",
       "      <td>7881.098</td>\n",
       "      <td>102117</td>\n",
       "      <td>2021-07-29 23:30:00</td>\n",
       "    </tr>\n",
       "    <tr>\n",
       "      <th>297</th>\n",
       "      <td>16165</td>\n",
       "      <td>1627592400</td>\n",
       "      <td>39715.49</td>\n",
       "      <td>39761.11</td>\n",
       "      <td>39465.66</td>\n",
       "      <td>39522.27</td>\n",
       "      <td>9108.069</td>\n",
       "      <td>107487</td>\n",
       "      <td>2021-07-30 00:30:00</td>\n",
       "    </tr>\n",
       "    <tr>\n",
       "      <th>298</th>\n",
       "      <td>16166</td>\n",
       "      <td>1627596000</td>\n",
       "      <td>39522.61</td>\n",
       "      <td>39812.34</td>\n",
       "      <td>39506.81</td>\n",
       "      <td>39773.85</td>\n",
       "      <td>9615.746</td>\n",
       "      <td>111277</td>\n",
       "      <td>2021-07-30 01:30:00</td>\n",
       "    </tr>\n",
       "    <tr>\n",
       "      <th>299</th>\n",
       "      <td>16167</td>\n",
       "      <td>1627599600</td>\n",
       "      <td>39773.85</td>\n",
       "      <td>40400.00</td>\n",
       "      <td>39757.00</td>\n",
       "      <td>40012.90</td>\n",
       "      <td>31826.597</td>\n",
       "      <td>281361</td>\n",
       "      <td>2021-07-30 02:30:00</td>\n",
       "    </tr>\n",
       "    <tr>\n",
       "      <th>300</th>\n",
       "      <td>16168</td>\n",
       "      <td>1627603200</td>\n",
       "      <td>40012.89</td>\n",
       "      <td>40133.13</td>\n",
       "      <td>39754.00</td>\n",
       "      <td>39900.00</td>\n",
       "      <td>15458.726</td>\n",
       "      <td>159159</td>\n",
       "      <td>2021-07-30 03:30:00</td>\n",
       "    </tr>\n",
       "  </tbody>\n",
       "</table>\n",
       "<p>301 rows × 9 columns</p>\n",
       "</div>"
      ],
      "text/plain": [
       "     Unnamed: 0   timestamp      open      high       low     close  \\\n",
       "0         15868  1626523200  31377.01  31570.00  31330.12  31489.01   \n",
       "1         15869  1626526800  31489.00  31750.00  31329.00  31607.99   \n",
       "2         15870  1626530400  31607.99  31738.83  31572.00  31622.35   \n",
       "3         15871  1626534000  31621.48  31750.00  31433.72  31737.92   \n",
       "4         15872  1626537600  31737.87  31849.00  31614.72  31677.24   \n",
       "..          ...         ...       ...       ...       ...       ...   \n",
       "296       16164  1627588800  39647.85  39830.00  39600.00  39715.49   \n",
       "297       16165  1627592400  39715.49  39761.11  39465.66  39522.27   \n",
       "298       16166  1627596000  39522.61  39812.34  39506.81  39773.85   \n",
       "299       16167  1627599600  39773.85  40400.00  39757.00  40012.90   \n",
       "300       16168  1627603200  40012.89  40133.13  39754.00  39900.00   \n",
       "\n",
       "        volume   trade                date  \n",
       "0    14325.922  116879 2021-07-17 15:30:00  \n",
       "1    29114.409  214698 2021-07-17 16:30:00  \n",
       "2    15550.348  125076 2021-07-17 17:30:00  \n",
       "3    23013.314  164851 2021-07-17 18:30:00  \n",
       "4    24002.979  174697 2021-07-17 19:30:00  \n",
       "..         ...     ...                 ...  \n",
       "296   7881.098  102117 2021-07-29 23:30:00  \n",
       "297   9108.069  107487 2021-07-30 00:30:00  \n",
       "298   9615.746  111277 2021-07-30 01:30:00  \n",
       "299  31826.597  281361 2021-07-30 02:30:00  \n",
       "300  15458.726  159159 2021-07-30 03:30:00  \n",
       "\n",
       "[301 rows x 9 columns]"
      ]
     },
     "execution_count": 24,
     "metadata": {},
     "output_type": "execute_result"
    }
   ],
   "source": [
    "price_1H"
   ]
  },
  {
   "cell_type": "code",
   "execution_count": 27,
   "metadata": {},
   "outputs": [],
   "source": [
    "price_1H.set_index('date' , inplace=True)\n",
    "price_30m.set_index('date' , inplace=True)"
   ]
  },
  {
   "cell_type": "code",
   "execution_count": 28,
   "metadata": {},
   "outputs": [],
   "source": [
    "price_1H.drop('timestamp', axis=1 , inplace=True)\n",
    "price_1H.drop('Unnamed: 0', axis=1 , inplace=True)\n",
    "price_30m.drop('timestamp', axis=1 , inplace=True)\n",
    "price_30m.drop('Unnamed: 0', axis=1 , inplace=True)"
   ]
  },
  {
   "cell_type": "code",
   "execution_count": 30,
   "metadata": {},
   "outputs": [],
   "source": [
    "roc = lambda x: (x / x.shift(1) - 1)"
   ]
  },
  {
   "cell_type": "code",
   "execution_count": 61,
   "metadata": {},
   "outputs": [
    {
     "name": "stdout",
     "output_type": "stream",
     "text": [
      "300\n",
      "1200\n"
     ]
    }
   ],
   "source": [
    "print(len(roc(price_1H['close'])[1:]))\n",
    "len(intervals['h']['neutral'])\n",
    "ccf1 = np.correlate(roc(price_1H['close']), intervals['h']['neutral'], \"full\")\n",
    "ccf2 = np.correlate(roc(price_30m['close']),intervals['30min']['neutral'],'full')\n",
    "print(len(ccf2))"
   ]
  },
  {
   "cell_type": "code",
   "execution_count": 64,
   "metadata": {},
   "outputs": [
    {
     "name": "stdout",
     "output_type": "stream",
     "text": [
      "0.27316317807016743\n",
      "0.2700435277631339\n"
     ]
    }
   ],
   "source": [
    "\n",
    "print(np.nanmax(ccf2))\n",
    "print(np.nanmax(ccf1))"
   ]
  },
  {
   "cell_type": "code",
   "execution_count": 56,
   "metadata": {},
   "outputs": [],
   "source": [
    "max_indices_ccf1 = np.where(ccf1 == np.nanmax(ccf1))[0]\n",
    "max_indices_ccf2 = np.where(ccf2 == np.nanmax(ccf2))[0]"
   ]
  },
  {
   "cell_type": "code",
   "execution_count": 65,
   "metadata": {},
   "outputs": [
    {
     "data": {
      "text/plain": [
       "[<matplotlib.lines.Line2D at 0x1dc3995eed0>]"
      ]
     },
     "execution_count": 65,
     "metadata": {},
     "output_type": "execute_result"
    },
    {
     "data": {
      "image/png": "[encoded data removed]",
      "text/plain": [
       "<Figure size 640x480 with 1 Axes>"
      ]
     },
     "metadata": {},
     "output_type": "display_data"
    }
   ],
   "source": [
    "plt.plot(ccf1)"
   ]
  },
  {
   "cell_type": "code",
   "execution_count": 66,
   "metadata": {},
   "outputs": [
    {
     "data": {
      "text/plain": [
       "[<matplotlib.lines.Line2D at 0x1dc3dc4f590>]"
      ]
     },
     "execution_count": 66,
     "metadata": {},
     "output_type": "execute_result"
    },
    {
     "data": {
      "image/png": "[encoded data removed]",
      "text/plain": [
       "<Figure size 640x480 with 1 Axes>"
      ]
     },
     "metadata": {},
     "output_type": "display_data"
    }
   ],
   "source": [
    "plt.plot(ccf2)"
   ]
  },
  {
   "cell_type": "code",
   "execution_count": null,
   "metadata": {},
   "outputs": [],
   "source": []
  }
 ],
 "metadata": {
  "kernelspec": {
   "display_name": "Python 3",
   "language": "python",
   "name": "python3"
  },
  "language_info": {
   "codemirror_mode": {
    "name": "ipython",
    "version": 3
   },
   "file_extension": ".py",
   "mimetype": "text/x-python",
   "name": "python",
   "nbconvert_exporter": "python",
   "pygments_lexer": "ipython3",
   "version": "3.11.8"
  }
 },
 "nbformat": 4,
 "nbformat_minor": 2
}
