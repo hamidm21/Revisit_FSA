{
 "cells": [
  {
   "cell_type": "markdown",
   "id": "89ad145f-2c29-4c96-a1e5-09db3c2301c6",
   "metadata": {},
   "source": [
    "# Experiment 1 - Next Day Market Trend Labeled Embeddings\n",
    "1. Imports and constants\n",
    "2. Load price and textual data\n",
    "3. Label price data and merge with textual data\n",
    "4. Create datasets and dataloaders\n",
    "5. Exploratory Data Analysis\n",
    "6. Evaluate the base model\n",
    "7. Train the model\n",
    "8. Evaluate the model"
   ]
  },
  {
   "cell_type": "markdown",
   "id": "d9e695ff-bbe7-4955-92f9-8fb0f1772030",
   "metadata": {},
   "source": [
    "## Imports and constants"
   ]
  },
  {
   "cell_type": "code",
   "execution_count": 1,
   "id": "bec3b55a-b7e4-48d5-89e3-cf31a1a99b5c",
   "metadata": {},
   "outputs": [],
   "source": [
    "import os\n",
    "import sys"
   ]
  },
  {
   "cell_type": "code",
   "execution_count": 2,
   "id": "4a08bc70-1d95-494a-b699-20f24647b294",
   "metadata": {},
   "outputs": [],
   "source": [
    "current_working_directory = os.getcwd()\n",
    "new_path = os.path.join(os.path.dirname(current_working_directory), \"src\")\n",
    "if new_path not in sys.path:\n",
    "    sys.path.append(new_path)"
   ]
  },
  {
   "cell_type": "code",
   "execution_count": 21,
   "id": "a8b01f3c-6424-4f1d-bc9c-de2bbae4e185",
   "metadata": {},
   "outputs": [],
   "source": [
    "import datetime\n",
    "from datetime import timedelta\n",
    "from typing import List, Callable\n",
    "\n",
    "import matplotlib.pyplot as plt\n",
    "import numpy as np\n",
    "import pandas as pd\n",
    "from pandas.tseries.offsets import DateOffset\n",
    "from transformers import (\n",
    "    AutoTokenizer,\n",
    "    AutoModel,\n",
    ")\n",
    "from tqdm import tqdm\n",
    "from sklearn.metrics import (\n",
    "    accuracy_score,\n",
    "    precision_recall_fscore_support,\n",
    "    roc_auc_score,\n",
    ")\n",
    "from sklearn.model_selection import train_test_split\n",
    "from scipy.special import softmax\n",
    "import torch\n",
    "from torch.utils.data import DataLoader\n",
    "from datasets import Dataset, ClassLabel\n",
    "\n",
    "\n",
    "# internal imports\n",
    "from type import Experiment\n",
    "from model import CryptoBERT\n",
    "from labeler import TripleBarrierLabeler, TrueRangeLabeler\n",
    "from dataset import HFDataset, TextDataset\n",
    "from util import *\n",
    "from functools import partial"
   ]
  },
  {
   "cell_type": "markdown",
   "id": "5b416cdb-fa1d-4c98-863e-c2c5e2f20b6e",
   "metadata": {},
   "source": [
    "## Load price and textual data"
   ]
  },
  {
   "cell_type": "code",
   "execution_count": 4,
   "id": "b78bee39-226a-4615-aa0f-5d6011c2c1b0",
   "metadata": {},
   "outputs": [],
   "source": [
    "def pandas_data_loader(addr: str, columns: List[str], *transforms: Callable[[pd.DataFrame], pd.DataFrame]) -> pd.DataFrame:\n",
    "    # Load the data from the CSV file\n",
    "    df = pd.read_csv(addr, usecols=columns)\n",
    "\n",
    "    # Apply each transform to the DataFrame\n",
    "    for transform in transforms:\n",
    "        df = transform(df)\n",
    "\n",
    "    return df"
   ]
  },
  {
   "cell_type": "code",
   "execution_count": 5,
   "id": "b15bfdbd-951d-49c1-8f79-7b2c76400a28",
   "metadata": {},
   "outputs": [],
   "source": [
    "# Transform index to datetime\n",
    "def index_to_datetime(df, unit=\"s\"):\n",
    "    df.index = pd.to_datetime(df.index, unit=unit)\n",
    "    return df\n",
    "# Transform col to index\n",
    "to_index = lambda col, df: df.set_index(col)"
   ]
  },
  {
   "cell_type": "code",
   "execution_count": 6,
   "id": "f4dceb5a-f1bc-4771-9062-252610f00f60",
   "metadata": {},
   "outputs": [],
   "source": [
    "# Loading the price data\n",
    "columns = [\"timestamp\", \"close\", \"open\", \"high\", \"low\", \"volume\"]\n",
    "price_df = pandas_data_loader(\"../raw/daily-2020.csv\", columns, partial(to_index, \"timestamp\"), index_to_datetime)"
   ]
  },
  {
   "cell_type": "code",
   "execution_count": 7,
   "id": "ca569197-543a-4de4-ba52-864f087ec2c7",
   "metadata": {},
   "outputs": [],
   "source": [
    "columns = [\"text_split\", \"date\"]\n",
    "text_df = pandas_data_loader(\"../raw/combined_tweets_2020_labeled.csv\", columns, partial(to_index, \"date\"), partial(index_to_datetime, unit='ns'))"
   ]
  },
  {
   "cell_type": "markdown",
   "id": "a70bbbbc-ea47-47c0-ac09-3698c4bdbbc6",
   "metadata": {},
   "source": [
    "## Label price data and merge with textual data"
   ]
  },
  {
   "cell_type": "code",
   "execution_count": 24,
   "id": "008cf0a9-b2a8-4494-afe4-4c497a19e44d",
   "metadata": {},
   "outputs": [],
   "source": [
    "def plot_labels(price_series, bands, labels):\n",
    "    \"\"\"\n",
    "    Plot price series with bullish and bearish areas.\n",
    "    \n",
    "    Parameters:\n",
    "    - price_series: A pandas Series of prices.\n",
    "    - bands: pandas series containing the bands\n",
    "    - labels: the list of labels (-1, 0, 1).\n",
    "    \"\"\"\n",
    "    # Create a new figure\n",
    "    fig, ax1 = plt.subplots(figsize=(14, 6))\n",
    "    ax2 = ax1.twinx()\n",
    "    \n",
    "    # Plot the price series\n",
    "    ax1.plot(price_series.index, price_series.values, label='Price', color='blue')\n",
    "    \n",
    "    # Draw a box for each window\n",
    "    for band in bands:\n",
    "        # Shift \"from\" and \"to\" by half a day\n",
    "        from_timestamp = band[\"from\"] - DateOffset(hours=12)\n",
    "        to_timestamp = band[\"to\"] + DateOffset(hours=12)\n",
    "        \n",
    "        # Ensure the timestamps are within the price series index\n",
    "        from_timestamp = max(from_timestamp, price_series.index[0])\n",
    "        to_timestamp = min(to_timestamp, price_series.index[-1])\n",
    "        \n",
    "        # Add the band\n",
    "        ax2.fill_betweenx(ax1.get_ylim(), from_timestamp, to_timestamp, color='green' if band[\"label\"] == labels[2] else \"red\" if band[\"label\"] == labels[0] else 'white' , alpha=0.3)\n",
    "\n",
    "    # Add a legend\n",
    "    ax1.legend()\n",
    "    \n",
    "    # Show the plot\n",
    "    plt.show()"
   ]
  },
  {
   "cell_type": "code",
   "execution_count": 25,
   "id": "e7015929-1943-4763-918b-7b46ef92ccfa",
   "metadata": {},
   "outputs": [],
   "source": [
    "def band_generator(labels):\n",
    "    bands = [{'label': labels.iloc[0], 'from': labels.index[0]}]\n",
    "    for l, i in enumerate(labels):\n",
    "        if i == bands[-1][\"label\"]:\n",
    "            pass\n",
    "        else:\n",
    "            bands[-1][\"to\"] = labels.index[l]\n",
    "            # Check if l + 1 is within the range of the labels' indices\n",
    "            if l + 1 < len(labels):\n",
    "                bands.append({'label': i, 'from': labels.index[l + 1]})\n",
    "    \n",
    "    # Check if the last band has a 'to' field\n",
    "    if 'to' not in bands[-1]:\n",
    "        bands[-1]['to'] = labels.index[-1]\n",
    "    \n",
    "    return bands"
   ]
  },
  {
   "cell_type": "code",
   "execution_count": 8,
   "id": "f3b9a1e6-20e3-4bd7-aded-fd50eac63ee3",
   "metadata": {},
   "outputs": [],
   "source": [
    "labeler = TripleBarrierLabeler(volatility_period=10, upper_barrier_factor=1.5, lower_barrier_factor=1.2, vertical_barrier=7, min_trend_days=2, barrier_type='volatility')"
   ]
  },
  {
   "cell_type": "code",
   "execution_count": 35,
   "id": "b9451122-19a5-4e81-885a-5461c7c13789",
   "metadata": {},
   "outputs": [],
   "source": [
    "labeler.fit(price_df)\n",
    "labeled_df = labeler.transform()"
   ]
  },
  {
   "cell_type": "code",
   "execution_count": 36,
   "id": "4c39227a-630e-4299-b6ed-1f4777837f64",
   "metadata": {},
   "outputs": [
    {
     "data": {
      "text/plain": [
       "label\n",
       "2    151\n",
       "1    142\n",
       "0     73\n",
       "Name: count, dtype: int64"
      ]
     },
     "execution_count": 36,
     "metadata": {},
     "output_type": "execute_result"
    }
   ],
   "source": [
    "labeled_df.label.value_counts()"
   ]
  },
  {
   "cell_type": "code",
   "execution_count": 37,
   "id": "5e406efb-1f61-43e6-bd08-925041e6a4f6",
   "metadata": {},
   "outputs": [
    {
     "data": {
      "image/png": "[encoded data removed]",
      "text/plain": [
       "<Figure size 1400x600 with 2 Axes>"
      ]
     },
     "metadata": {},
     "output_type": "display_data"
    }
   ],
   "source": [
    "prices = labeled_df\n",
    "bands = band_generator(prices.label)\n",
    "plot_labels(prices.close, bands, [0,1,2])"
   ]
  },
  {
   "cell_type": "code",
   "execution_count": 38,
   "id": "ae7394e4-2609-496c-a7b0-607de822875b",
   "metadata": {},
   "outputs": [],
   "source": [
    "# Shift the labels such that for each day, the label is set to the next day's label\n",
    "labeled_df.label = labeled_df.label.shift(-1)\n",
    "labeled_df = labeled_df[:-1]"
   ]
  },
  {
   "cell_type": "code",
   "execution_count": 41,
   "id": "86475858-c0d8-4a0c-bdb6-a8e7453a9fec",
   "metadata": {},
   "outputs": [],
   "source": [
    "labeled_df = text_df.merge(\n",
    "    labeled_df[[\"label\"]], left_index=True, right_index=True, how=\"left\"\n",
    ")"
   ]
  },
  {
   "cell_type": "code",
   "execution_count": 44,
   "id": "76c375fa-145e-47f8-8182-3693a50e178a",
   "metadata": {},
   "outputs": [],
   "source": [
    "labeled_df.dropna(inplace=True)"
   ]
  },
  {
   "cell_type": "code",
   "execution_count": 47,
   "id": "60eb99b8-9e52-45b3-ab2b-657b0acac5d6",
   "metadata": {},
   "outputs": [
    {
     "data": {
      "text/plain": [
       "label\n",
       "2.0    27788\n",
       "1.0    23991\n",
       "0.0    12313\n",
       "Name: count, dtype: int64"
      ]
     },
     "execution_count": 47,
     "metadata": {},
     "output_type": "execute_result"
    }
   ],
   "source": [
    "labeled_df.label.value_counts()"
   ]
  },
  {
   "cell_type": "code",
   "execution_count": 48,
   "id": "e854c123-bf0a-4408-a1e5-b50522eb05d5",
   "metadata": {},
   "outputs": [
    {
     "data": {
      "text/html": [
       "<div>\n",
       "<style scoped>\n",
       "    .dataframe tbody tr th:only-of-type {\n",
       "        vertical-align: middle;\n",
       "    }\n",
       "\n",
       "    .dataframe tbody tr th {\n",
       "        vertical-align: top;\n",
       "    }\n",
       "\n",
       "    .dataframe thead th {\n",
       "        text-align: right;\n",
       "    }\n",
       "</style>\n",
       "<table border=\"1\" class=\"dataframe\">\n",
       "  <thead>\n",
       "    <tr style=\"text-align: right;\">\n",
       "      <th></th>\n",
       "      <th>text_split</th>\n",
       "      <th>label</th>\n",
       "    </tr>\n",
       "  </thead>\n",
       "  <tbody>\n",
       "    <tr>\n",
       "      <th>2020-01-01</th>\n",
       "      <td>is the year of bitcoin bitcoin is up in decade...</td>\n",
       "      <td>1.0</td>\n",
       "    </tr>\n",
       "    <tr>\n",
       "      <th>2020-01-01</th>\n",
       "      <td>activity and bases when can print they need go...</td>\n",
       "      <td>1.0</td>\n",
       "    </tr>\n",
       "    <tr>\n",
       "      <th>2020-01-01</th>\n",
       "      <td>address related to his announcement why they b...</td>\n",
       "      <td>1.0</td>\n",
       "    </tr>\n",
       "    <tr>\n",
       "      <th>2020-01-01</th>\n",
       "      <td>xrp btc btc price action is similar to bitcoin...</td>\n",
       "      <td>1.0</td>\n",
       "    </tr>\n",
       "    <tr>\n",
       "      <th>2020-01-01</th>\n",
       "      <td>about cryptocurrency and will be the beginning...</td>\n",
       "      <td>1.0</td>\n",
       "    </tr>\n",
       "  </tbody>\n",
       "</table>\n",
       "</div>"
      ],
      "text/plain": [
       "                                                   text_split  label\n",
       "2020-01-01  is the year of bitcoin bitcoin is up in decade...    1.0\n",
       "2020-01-01  activity and bases when can print they need go...    1.0\n",
       "2020-01-01  address related to his announcement why they b...    1.0\n",
       "2020-01-01  xrp btc btc price action is similar to bitcoin...    1.0\n",
       "2020-01-01  about cryptocurrency and will be the beginning...    1.0"
      ]
     },
     "execution_count": 48,
     "metadata": {},
     "output_type": "execute_result"
    }
   ],
   "source": [
    "labeled_df.head()"
   ]
  },
  {
   "cell_type": "markdown",
   "id": "883acda3-bd1c-499f-b223-15379fbd8f8c",
   "metadata": {},
   "source": [
    "## Create datasets and dataloaders"
   ]
  },
  {
   "cell_type": "code",
   "execution_count": null,
   "id": "906919c6-156f-4091-bf0c-db3eb9134972",
   "metadata": {},
   "outputs": [],
   "source": []
  }
 ],
 "metadata": {
  "kernelspec": {
   "display_name": "Python 3 (ipykernel)",
   "language": "python",
   "name": "python3"
  },
  "language_info": {
   "codemirror_mode": {
    "name": "ipython",
    "version": 3
   },
   "file_extension": ".py",
   "mimetype": "text/x-python",
   "name": "python",
   "nbconvert_exporter": "python",
   "pygments_lexer": "ipython3",
   "version": "3.10.12"
  }
 },
 "nbformat": 4,
 "nbformat_minor": 5
}
