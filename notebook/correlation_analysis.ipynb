{
 "cells": [
  {
   "cell_type": "markdown",
   "metadata": {},
   "source": [
    "## Correlation Analysis\n",
    "Here are the steps taken:\n",
    "1. importing packages\n",
    "2. loading twitter data\n",
    "3. loading historical data\n",
    "4. preprocessing the datasets\n",
    "5. calculating sentiment polarity using VADER\n",
    "6. merging price and sentiment data based on their intervals\n",
    "7. selecting the suitable interval for the analysis using cross-correlation\n",
    "8. selecting the suitable MA/EMA hyperparameter (assuming context improves sentiment index)\n",
    "9. storing the selected index as a dataset to be used later"
   ]
  },
  {
   "cell_type": "markdown",
   "metadata": {},
   "source": [
    "### importing packages"
   ]
  },
  {
   "cell_type": "code",
   "execution_count": 2,
   "metadata": {},
   "outputs": [
    {
     "name": "stderr",
     "output_type": "stream",
     "text": [
      "C:\\Users\\USER\\AppData\\Local\\Temp\\ipykernel_11200\\3888849287.py:1: DeprecationWarning: \n",
      "Pyarrow will become a required dependency of pandas in the next major release of pandas (pandas 3.0),\n",
      "(to allow more performant data types, such as the Arrow string type, and better interoperability with other libraries)\n",
      "but was not found to be installed on your system.\n",
      "If this would cause problems for you,\n",
      "please provide us feedback at https://github.com/pandas-dev/pandas/issues/54466\n",
      "        \n",
      "  import pandas as pd\n"
     ]
    }
   ],
   "source": [
    "import pandas as pd\n",
    "import numpy as np\n",
    "import matplotlib.pyplot as plt\n",
    "import logging\n",
    "import nltk\n",
    "from nltk.sentiment.vader import SentimentIntensityAnalyzer\n",
    "from tqdm import tqdm\n",
    "from datetime import datetime"
   ]
  },
  {
   "cell_type": "code",
   "execution_count": 3,
   "metadata": {},
   "outputs": [],
   "source": [
    "import sys\n",
    "import os\n",
    "current_working_directory = os.getcwd()\n",
    "sys.path.append(os.path.dirname(current_working_directory))\n",
    "from util.eda import generate_report"
   ]
  },
  {
   "cell_type": "code",
   "execution_count": 4,
   "metadata": {},
   "outputs": [],
   "source": [
    "logger = logging.getLogger()\n",
    "logger.setLevel(logging.INFO)\n",
    "logging.debug(\"using debug mode\")"
   ]
  },
  {
   "cell_type": "code",
   "execution_count": 5,
   "metadata": {},
   "outputs": [],
   "source": [
    "tqdm.pandas()"
   ]
  },
  {
   "cell_type": "code",
   "execution_count": 116,
   "metadata": {},
   "outputs": [],
   "source": [
    "# constants\n",
    "DATASET_DIRECTORY = os.path.join(os.path.dirname(current_working_directory), \"dataset\")\n",
    "RAW_DIRECTORY = os.path.join(os.path.dirname(current_working_directory), \"raw\")\n",
    "RESULT_DIRESTORY = os.path.join(os.path.dirname(current_working_directory), \"result/correlation_analysis\")\n",
    "BITCOIN_TWEETS_RAW_ADDRESS = os.path.join(RAW_DIRECTORY, \"/bitcoin-tweets/Bitcoin_tweets.csv\")\n",
    "CLEAN_DATASET_FILENAME = \"_correlation_analysis_clean.csv\"\n",
    "SLICED_DATASET_FILENAME=\"_correlation_analysis_sliced.csv\"\n",
    "SLICED_START_TIME=\"2021-07-17 12:00:00\"\n",
    "SLICED_END_TIME=\"2021-07-30\""
   ]
  },
  {
   "cell_type": "markdown",
   "metadata": {},
   "source": [
    "### loading twitter data"
   ]
  },
  {
   "cell_type": "code",
   "execution_count": 35,
   "metadata": {},
   "outputs": [],
   "source": [
    "def clean_dataset(source: pd.DataFrame):\n",
    "    \"\"\"\n",
    "    This function cleans the input DataFrame by:\n",
    "    - Converting 'user_followers' and 'user_friends' columns to integer type\n",
    "    - Converting 'user_verified' column to boolean type\n",
    "    - Converting 'date' column to datetime type\n",
    "    - Dropping rows with any null values\n",
    "    - Setting 'date' as the index of the DataFrame\n",
    "    It then returns the cleaned DataFrame.\n",
    "    \"\"\"\n",
    "    df = source.copy()\n",
    "    df[\"user_followers\"] = pd.to_numeric(df[\"user_followers\"], errors='coerce').astype('Int64')\n",
    "    df[\"user_friends\"] = pd.to_numeric(df[\"user_friends\"], errors='coerce').astype('Int64')\n",
    "    df[\"user_verified\"] = df[\"user_verified\"].astype(\"bool\")\n",
    "    df[\"date\"] = pd.to_datetime(df[\"date\"], errors='coerce')\n",
    "    df = df.dropna().set_index(\"date\")\n",
    "    return df\n",
    "\n",
    "def handle_dataset(file_path, df=None, columns=None, index=\"date\"):\n",
    "    \"\"\"\n",
    "    This function handles the reading and writing of datasets.\n",
    "    - If a DataFrame is provided, it writes the DataFrame to a CSV file at the given file path.\n",
    "    - If no DataFrame is provided, it checks if a file exists at the given file path and reads it if it does.\n",
    "    - If no file exists, it returns None.\n",
    "    \"\"\"\n",
    "    if df is not None:\n",
    "        logging.debug(f\"Writing to csv at {file_path}\")\n",
    "        df.to_csv(file_path)\n",
    "    elif os.path.isfile(file_path):\n",
    "        logging.debug(f\"Reading dataset from {file_path}\")\n",
    "        return pd.read_csv(file_path, usecols=columns).set_index(index)\n",
    "    return None\n",
    "\n",
    "def slice_dataframe(sdf, start_datetime, end_datetime):\n",
    "    \"\"\"\n",
    "    This function slices a DataFrame based on a given date range.\n",
    "    - It first sorts the DataFrame by 'date'.\n",
    "    - It then slices the DataFrame based on the given start and end datetime.\n",
    "    - It returns the sliced DataFrame.\n",
    "    \"\"\"\n",
    "    sorted_df = sdf.sort_values(by='date')\n",
    "    sliced_df = sorted_df.loc[start_datetime:end_datetime]\n",
    "    return sliced_df\n",
    "\n",
    "def get_dataframe(source_dataset_address, clean_dataset_address, sliced_dataset_address, start_time, end_time):\n",
    "    \"\"\"\n",
    "    This function gets a DataFrame from a given file path.\n",
    "    - It first tries to read a sliced dataset from a given file path.\n",
    "    - If no sliced dataset exists, it tries to read a clean dataset from a given file path.\n",
    "    - If no clean dataset exists, it generates a clean dataset from a source dataset.\n",
    "    - It then slices the DataFrame and writes it to a CSV file.\n",
    "    - It returns the DataFrame.\n",
    "    \"\"\"\n",
    "    columns = ['user_followers', 'user_friends', 'user_verified', 'date', 'text']\n",
    "\n",
    "    df = handle_dataset(sliced_dataset_address, columns=columns)\n",
    "    if df is None:\n",
    "        df = handle_dataset(clean_dataset_address, columns=columns)\n",
    "        if df is None:\n",
    "            logging.debug(\"Generating clean dataset from source\")\n",
    "            df = pd.read_csv(source_dataset_address, lineterminator='\\n', usecols=columns)\n",
    "            df = clean_dataset(df)\n",
    "            handle_dataset(clean_dataset_address, df=df)\n",
    "        df = slice_dataframe(df, start_time, end_time)\n",
    "        handle_dataset(sliced_dataset_address, df=df)\n",
    "\n",
    "    return df"
   ]
  },
  {
   "cell_type": "code",
   "execution_count": 36,
   "metadata": {},
   "outputs": [],
   "source": [
    "# Check to see if the cleaned version of dataset exists. if not, we build the dataframe from the source.\n",
    "clean_dataset_address = os.path.join(DATASET_DIRECTORY, CLEAN_DATASET_FILENAME)\n",
    "sliced_dataset_address = os.path.join(DATASET_DIRECTORY, SLICED_DATASET_FILENAME)\n",
    "df = get_dataframe(BITCOIN_TWEETS_RAW_ADDRESS, clean_dataset_address, sliced_dataset_address, SLICED_START_TIME, SLICED_END_TIME)"
   ]
  },
  {
   "cell_type": "code",
   "execution_count": 37,
   "metadata": {},
   "outputs": [
    {
     "data": {
      "text/html": [
       "<div>\n",
       "<style scoped>\n",
       "    .dataframe tbody tr th:only-of-type {\n",
       "        vertical-align: middle;\n",
       "    }\n",
       "\n",
       "    .dataframe tbody tr th {\n",
       "        vertical-align: top;\n",
       "    }\n",
       "\n",
       "    .dataframe thead th {\n",
       "        text-align: right;\n",
       "    }\n",
       "</style>\n",
       "<table border=\"1\" class=\"dataframe\">\n",
       "  <thead>\n",
       "    <tr style=\"text-align: right;\">\n",
       "      <th></th>\n",
       "      <th>user_followers</th>\n",
       "      <th>user_friends</th>\n",
       "      <th>user_verified</th>\n",
       "      <th>text</th>\n",
       "    </tr>\n",
       "    <tr>\n",
       "      <th>date</th>\n",
       "      <th></th>\n",
       "      <th></th>\n",
       "      <th></th>\n",
       "      <th></th>\n",
       "    </tr>\n",
       "  </thead>\n",
       "  <tbody>\n",
       "    <tr>\n",
       "      <th>2021-07-17 12:00:00</th>\n",
       "      <td>1534</td>\n",
       "      <td>2044</td>\n",
       "      <td>False</td>\n",
       "      <td>Baller, Jack Mallers Calls Out Brian Armstrong...</td>\n",
       "    </tr>\n",
       "    <tr>\n",
       "      <th>2021-07-17 12:00:00</th>\n",
       "      <td>27309</td>\n",
       "      <td>166</td>\n",
       "      <td>False</td>\n",
       "      <td>Square developing #bitcoin-focused business as...</td>\n",
       "    </tr>\n",
       "    <tr>\n",
       "      <th>2021-07-17 12:00:00</th>\n",
       "      <td>34</td>\n",
       "      <td>19</td>\n",
       "      <td>False</td>\n",
       "      <td>#Bitcoin\\nCurrent Price:\\n$ 31397.97\\n€ 26640....</td>\n",
       "    </tr>\n",
       "    <tr>\n",
       "      <th>2021-07-17 12:00:00</th>\n",
       "      <td>953</td>\n",
       "      <td>119</td>\n",
       "      <td>False</td>\n",
       "      <td>Now tell me looking straight into my eyes that...</td>\n",
       "    </tr>\n",
       "    <tr>\n",
       "      <th>2021-07-17 12:00:00</th>\n",
       "      <td>145324</td>\n",
       "      <td>834</td>\n",
       "      <td>True</td>\n",
       "      <td>There are a number of walk-in NHS vaccination ...</td>\n",
       "    </tr>\n",
       "    <tr>\n",
       "      <th>...</th>\n",
       "      <td>...</td>\n",
       "      <td>...</td>\n",
       "      <td>...</td>\n",
       "      <td>...</td>\n",
       "    </tr>\n",
       "    <tr>\n",
       "      <th>2021-07-29 23:59:12</th>\n",
       "      <td>73</td>\n",
       "      <td>583</td>\n",
       "      <td>False</td>\n",
       "      <td>This only has 1k views? WTF #CRYPTO #Bitcoin #...</td>\n",
       "    </tr>\n",
       "    <tr>\n",
       "      <th>2021-07-29 23:59:14</th>\n",
       "      <td>413361</td>\n",
       "      <td>387</td>\n",
       "      <td>False</td>\n",
       "      <td>LET'S DISCUSS THE LATEST #CRYPTO NEWS!\\n\\n-- P...</td>\n",
       "    </tr>\n",
       "    <tr>\n",
       "      <th>2021-07-29 23:59:21</th>\n",
       "      <td>60</td>\n",
       "      <td>1049</td>\n",
       "      <td>False</td>\n",
       "      <td>@fireworksdoge Address : 0x01F69047c11DD924631...</td>\n",
       "    </tr>\n",
       "    <tr>\n",
       "      <th>2021-07-29 23:59:28</th>\n",
       "      <td>99</td>\n",
       "      <td>206</td>\n",
       "      <td>False</td>\n",
       "      <td>@drdisrespect doc do you #bitcoin</td>\n",
       "    </tr>\n",
       "    <tr>\n",
       "      <th>2021-07-29 23:59:52</th>\n",
       "      <td>4074</td>\n",
       "      <td>143</td>\n",
       "      <td>False</td>\n",
       "      <td>Y’all better quit playing. You’ll sub and watc...</td>\n",
       "    </tr>\n",
       "  </tbody>\n",
       "</table>\n",
       "<p>331234 rows × 4 columns</p>\n",
       "</div>"
      ],
      "text/plain": [
       "                     user_followers  user_friends  user_verified  \\\n",
       "date                                                               \n",
       "2021-07-17 12:00:00            1534          2044          False   \n",
       "2021-07-17 12:00:00           27309           166          False   \n",
       "2021-07-17 12:00:00              34            19          False   \n",
       "2021-07-17 12:00:00             953           119          False   \n",
       "2021-07-17 12:00:00          145324           834           True   \n",
       "...                             ...           ...            ...   \n",
       "2021-07-29 23:59:12              73           583          False   \n",
       "2021-07-29 23:59:14          413361           387          False   \n",
       "2021-07-29 23:59:21              60          1049          False   \n",
       "2021-07-29 23:59:28              99           206          False   \n",
       "2021-07-29 23:59:52            4074           143          False   \n",
       "\n",
       "                                                                  text  \n",
       "date                                                                    \n",
       "2021-07-17 12:00:00  Baller, Jack Mallers Calls Out Brian Armstrong...  \n",
       "2021-07-17 12:00:00  Square developing #bitcoin-focused business as...  \n",
       "2021-07-17 12:00:00  #Bitcoin\\nCurrent Price:\\n$ 31397.97\\n€ 26640....  \n",
       "2021-07-17 12:00:00  Now tell me looking straight into my eyes that...  \n",
       "2021-07-17 12:00:00  There are a number of walk-in NHS vaccination ...  \n",
       "...                                                                ...  \n",
       "2021-07-29 23:59:12  This only has 1k views? WTF #CRYPTO #Bitcoin #...  \n",
       "2021-07-29 23:59:14  LET'S DISCUSS THE LATEST #CRYPTO NEWS!\\n\\n-- P...  \n",
       "2021-07-29 23:59:21  @fireworksdoge Address : 0x01F69047c11DD924631...  \n",
       "2021-07-29 23:59:28                  @drdisrespect doc do you #bitcoin  \n",
       "2021-07-29 23:59:52  Y’all better quit playing. You’ll sub and watc...  \n",
       "\n",
       "[331234 rows x 4 columns]"
      ]
     },
     "execution_count": 37,
     "metadata": {},
     "output_type": "execute_result"
    }
   ],
   "source": [
    "df"
   ]
  },
  {
   "cell_type": "code",
   "execution_count": 10,
   "metadata": {},
   "outputs": [
    {
     "data": {
      "text/plain": [
       "user_followers     int64\n",
       "user_friends       int64\n",
       "user_verified       bool\n",
       "text              object\n",
       "dtype: object"
      ]
     },
     "execution_count": 10,
     "metadata": {},
     "output_type": "execute_result"
    }
   ],
   "source": [
    "df.dtypes"
   ]
  },
  {
   "cell_type": "markdown",
   "metadata": {},
   "source": [
    "### loading historical data"
   ]
  },
  {
   "cell_type": "code",
   "execution_count": 38,
   "metadata": {},
   "outputs": [
    {
     "name": "stdout",
     "output_type": "stream",
     "text": [
      "d:\\Daneshgah\\MyPaper\\github\\Financial_NLP\\raw/300-sliced.csv\n",
      "d:\\Daneshgah\\MyPaper\\github\\Financial_NLP\\raw/900-sliced.csv\n",
      "d:\\Daneshgah\\MyPaper\\github\\Financial_NLP\\raw/1800-sliced.csv\n",
      "d:\\Daneshgah\\MyPaper\\github\\Financial_NLP\\raw/3600-sliced.csv\n"
     ]
    }
   ],
   "source": [
    "historical_intervals = [300, 900, 1800, 3600]\n",
    "columns = [\"timestamp\", \"open\", \"high\", \"low\", \"close\", \"volume\", \"trade\"]\n",
    "historical_dfs = {}\n",
    "for interval in historical_intervals:\n",
    "    file_path = f\"{RAW_DIRECTORY}/{interval}-sliced.csv\"\n",
    "    print(file_path)\n",
    "    historical_df = handle_dataset(file_path=file_path, columns=columns, index='timestamp')\n",
    "    historical_df.index = pd.to_datetime(historical_df.index, unit='s')\n",
    "    # excluding the last index to match the sentiment dataset shape\n",
    "    historical_dfs[interval] = historical_df[:-1]\n",
    "del(historical_df)"
   ]
  },
  {
   "cell_type": "code",
   "execution_count": 12,
   "metadata": {},
   "outputs": [
    {
     "data": {
      "text/plain": [
       "dict_keys([300, 900, 1800, 3600])"
      ]
     },
     "execution_count": 12,
     "metadata": {},
     "output_type": "execute_result"
    }
   ],
   "source": [
    "historical_dfs.keys()"
   ]
  },
  {
   "cell_type": "markdown",
   "metadata": {},
   "source": [
    "### preprocessing the datasets"
   ]
  },
  {
   "cell_type": "markdown",
   "metadata": {
    "jp-MarkdownHeadingCollapsed": true
   },
   "source": [
    "- remove URLS (regex)\n",
    "- lower case all the tweets\n",
    "- remove (remove all punctuations except for meaningful ones like :( or !, ?)\n",
    "- extract hashtags to another column\n",
    "- replace #BTC, #Bitcoin, #bitcoin, replace with BTC.\n",
    "- replace BTC, Bitcoin, bitcoin, with BTC\n",
    "- remove user ids beginning with @\n",
    "- extract emojis and emoticons to their separate column\n",
    "- remove ads"
   ]
  },
  {
   "cell_type": "markdown",
   "metadata": {},
   "source": [
    "### calculating sentiment polarity using VADER"
   ]
  },
  {
   "cell_type": "code",
   "execution_count": 13,
   "metadata": {},
   "outputs": [
    {
     "name": "stderr",
     "output_type": "stream",
     "text": [
      "[nltk_data] Downloading package vader_lexicon to\n",
      "[nltk_data]     C:\\Users\\USER\\AppData\\Roaming\\nltk_data...\n",
      "[nltk_data]   Package vader_lexicon is already up-to-date!\n"
     ]
    },
    {
     "data": {
      "text/plain": [
       "True"
      ]
     },
     "execution_count": 13,
     "metadata": {},
     "output_type": "execute_result"
    }
   ],
   "source": [
    "nltk.download('vader_lexicon')"
   ]
  },
  {
   "cell_type": "code",
   "execution_count": 14,
   "metadata": {},
   "outputs": [],
   "source": [
    "sia = SentimentIntensityAnalyzer()"
   ]
  },
  {
   "cell_type": "code",
   "execution_count": 39,
   "metadata": {},
   "outputs": [
    {
     "name": "stderr",
     "output_type": "stream",
     "text": [
      "100%|██████████| 331234/331234 [02:11<00:00, 2511.29it/s]\n"
     ]
    }
   ],
   "source": [
    "columns = ['user_followers', 'user_friends', 'user_verified', 'date', 'text', 'negative', 'neutral', 'positive', 'compound']\n",
    "vader_dataset_name = \"_correlation_analysis_sentiment.csv\"\n",
    "vader_dataset_address = os.path.join(DATASET_DIRECTORY, vader_dataset_name)\n",
    "vader_df = handle_dataset(file_path=vader_dataset_address, columns=columns)\n",
    "if vader_df is None:\n",
    "    vader_df = df.copy()\n",
    "    vader_df[['negative', 'neutral', 'positive', 'compound']] = vader_df['text'].progress_apply(lambda text: pd.Series(sia.polarity_scores(text)))\n",
    "    handle_dataset(file_path=vader_dataset_address, df=vader_df)"
   ]
  },
  {
   "cell_type": "code",
   "execution_count": 40,
   "metadata": {},
   "outputs": [
    {
     "data": {
      "text/html": [
       "<div>\n",
       "<style scoped>\n",
       "    .dataframe tbody tr th:only-of-type {\n",
       "        vertical-align: middle;\n",
       "    }\n",
       "\n",
       "    .dataframe tbody tr th {\n",
       "        vertical-align: top;\n",
       "    }\n",
       "\n",
       "    .dataframe thead th {\n",
       "        text-align: right;\n",
       "    }\n",
       "</style>\n",
       "<table border=\"1\" class=\"dataframe\">\n",
       "  <thead>\n",
       "    <tr style=\"text-align: right;\">\n",
       "      <th></th>\n",
       "      <th>user_followers</th>\n",
       "      <th>user_friends</th>\n",
       "      <th>user_verified</th>\n",
       "      <th>text</th>\n",
       "      <th>negative</th>\n",
       "      <th>neutral</th>\n",
       "      <th>positive</th>\n",
       "      <th>compound</th>\n",
       "    </tr>\n",
       "    <tr>\n",
       "      <th>date</th>\n",
       "      <th></th>\n",
       "      <th></th>\n",
       "      <th></th>\n",
       "      <th></th>\n",
       "      <th></th>\n",
       "      <th></th>\n",
       "      <th></th>\n",
       "      <th></th>\n",
       "    </tr>\n",
       "  </thead>\n",
       "  <tbody>\n",
       "    <tr>\n",
       "      <th>2021-07-17 12:00:00</th>\n",
       "      <td>1534</td>\n",
       "      <td>2044</td>\n",
       "      <td>False</td>\n",
       "      <td>Baller, Jack Mallers Calls Out Brian Armstrong...</td>\n",
       "      <td>0.000</td>\n",
       "      <td>1.000</td>\n",
       "      <td>0.000</td>\n",
       "      <td>0.0000</td>\n",
       "    </tr>\n",
       "    <tr>\n",
       "      <th>2021-07-17 12:00:00</th>\n",
       "      <td>27309</td>\n",
       "      <td>166</td>\n",
       "      <td>False</td>\n",
       "      <td>Square developing #bitcoin-focused business as...</td>\n",
       "      <td>0.000</td>\n",
       "      <td>1.000</td>\n",
       "      <td>0.000</td>\n",
       "      <td>0.0000</td>\n",
       "    </tr>\n",
       "    <tr>\n",
       "      <th>2021-07-17 12:00:00</th>\n",
       "      <td>34</td>\n",
       "      <td>19</td>\n",
       "      <td>False</td>\n",
       "      <td>#Bitcoin\\nCurrent Price:\\n$ 31397.97\\n€ 26640....</td>\n",
       "      <td>0.000</td>\n",
       "      <td>1.000</td>\n",
       "      <td>0.000</td>\n",
       "      <td>0.0000</td>\n",
       "    </tr>\n",
       "    <tr>\n",
       "      <th>2021-07-17 12:00:00</th>\n",
       "      <td>953</td>\n",
       "      <td>119</td>\n",
       "      <td>False</td>\n",
       "      <td>Now tell me looking straight into my eyes that...</td>\n",
       "      <td>0.100</td>\n",
       "      <td>0.810</td>\n",
       "      <td>0.090</td>\n",
       "      <td>-0.0516</td>\n",
       "    </tr>\n",
       "    <tr>\n",
       "      <th>2021-07-17 12:00:00</th>\n",
       "      <td>145324</td>\n",
       "      <td>834</td>\n",
       "      <td>True</td>\n",
       "      <td>There are a number of walk-in NHS vaccination ...</td>\n",
       "      <td>0.000</td>\n",
       "      <td>0.973</td>\n",
       "      <td>0.027</td>\n",
       "      <td>0.0772</td>\n",
       "    </tr>\n",
       "    <tr>\n",
       "      <th>...</th>\n",
       "      <td>...</td>\n",
       "      <td>...</td>\n",
       "      <td>...</td>\n",
       "      <td>...</td>\n",
       "      <td>...</td>\n",
       "      <td>...</td>\n",
       "      <td>...</td>\n",
       "      <td>...</td>\n",
       "    </tr>\n",
       "    <tr>\n",
       "      <th>2021-07-29 23:59:12</th>\n",
       "      <td>73</td>\n",
       "      <td>583</td>\n",
       "      <td>False</td>\n",
       "      <td>This only has 1k views? WTF #CRYPTO #Bitcoin #...</td>\n",
       "      <td>0.335</td>\n",
       "      <td>0.665</td>\n",
       "      <td>0.000</td>\n",
       "      <td>-0.6739</td>\n",
       "    </tr>\n",
       "    <tr>\n",
       "      <th>2021-07-29 23:59:14</th>\n",
       "      <td>413361</td>\n",
       "      <td>387</td>\n",
       "      <td>False</td>\n",
       "      <td>LET'S DISCUSS THE LATEST #CRYPTO NEWS!\\n\\n-- P...</td>\n",
       "      <td>0.114</td>\n",
       "      <td>0.886</td>\n",
       "      <td>0.000</td>\n",
       "      <td>-0.5599</td>\n",
       "    </tr>\n",
       "    <tr>\n",
       "      <th>2021-07-29 23:59:21</th>\n",
       "      <td>60</td>\n",
       "      <td>1049</td>\n",
       "      <td>False</td>\n",
       "      <td>@fireworksdoge Address : 0x01F69047c11DD924631...</td>\n",
       "      <td>0.000</td>\n",
       "      <td>0.784</td>\n",
       "      <td>0.216</td>\n",
       "      <td>0.7003</td>\n",
       "    </tr>\n",
       "    <tr>\n",
       "      <th>2021-07-29 23:59:28</th>\n",
       "      <td>99</td>\n",
       "      <td>206</td>\n",
       "      <td>False</td>\n",
       "      <td>@drdisrespect doc do you #bitcoin</td>\n",
       "      <td>0.000</td>\n",
       "      <td>1.000</td>\n",
       "      <td>0.000</td>\n",
       "      <td>0.0000</td>\n",
       "    </tr>\n",
       "    <tr>\n",
       "      <th>2021-07-29 23:59:52</th>\n",
       "      <td>4074</td>\n",
       "      <td>143</td>\n",
       "      <td>False</td>\n",
       "      <td>Y’all better quit playing. You’ll sub and watc...</td>\n",
       "      <td>0.000</td>\n",
       "      <td>0.915</td>\n",
       "      <td>0.085</td>\n",
       "      <td>0.3291</td>\n",
       "    </tr>\n",
       "  </tbody>\n",
       "</table>\n",
       "<p>331234 rows × 8 columns</p>\n",
       "</div>"
      ],
      "text/plain": [
       "                     user_followers  user_friends  user_verified  \\\n",
       "date                                                               \n",
       "2021-07-17 12:00:00            1534          2044          False   \n",
       "2021-07-17 12:00:00           27309           166          False   \n",
       "2021-07-17 12:00:00              34            19          False   \n",
       "2021-07-17 12:00:00             953           119          False   \n",
       "2021-07-17 12:00:00          145324           834           True   \n",
       "...                             ...           ...            ...   \n",
       "2021-07-29 23:59:12              73           583          False   \n",
       "2021-07-29 23:59:14          413361           387          False   \n",
       "2021-07-29 23:59:21              60          1049          False   \n",
       "2021-07-29 23:59:28              99           206          False   \n",
       "2021-07-29 23:59:52            4074           143          False   \n",
       "\n",
       "                                                                  text  \\\n",
       "date                                                                     \n",
       "2021-07-17 12:00:00  Baller, Jack Mallers Calls Out Brian Armstrong...   \n",
       "2021-07-17 12:00:00  Square developing #bitcoin-focused business as...   \n",
       "2021-07-17 12:00:00  #Bitcoin\\nCurrent Price:\\n$ 31397.97\\n€ 26640....   \n",
       "2021-07-17 12:00:00  Now tell me looking straight into my eyes that...   \n",
       "2021-07-17 12:00:00  There are a number of walk-in NHS vaccination ...   \n",
       "...                                                                ...   \n",
       "2021-07-29 23:59:12  This only has 1k views? WTF #CRYPTO #Bitcoin #...   \n",
       "2021-07-29 23:59:14  LET'S DISCUSS THE LATEST #CRYPTO NEWS!\\n\\n-- P...   \n",
       "2021-07-29 23:59:21  @fireworksdoge Address : 0x01F69047c11DD924631...   \n",
       "2021-07-29 23:59:28                  @drdisrespect doc do you #bitcoin   \n",
       "2021-07-29 23:59:52  Y’all better quit playing. You’ll sub and watc...   \n",
       "\n",
       "                     negative  neutral  positive  compound  \n",
       "date                                                        \n",
       "2021-07-17 12:00:00     0.000    1.000     0.000    0.0000  \n",
       "2021-07-17 12:00:00     0.000    1.000     0.000    0.0000  \n",
       "2021-07-17 12:00:00     0.000    1.000     0.000    0.0000  \n",
       "2021-07-17 12:00:00     0.100    0.810     0.090   -0.0516  \n",
       "2021-07-17 12:00:00     0.000    0.973     0.027    0.0772  \n",
       "...                       ...      ...       ...       ...  \n",
       "2021-07-29 23:59:12     0.335    0.665     0.000   -0.6739  \n",
       "2021-07-29 23:59:14     0.114    0.886     0.000   -0.5599  \n",
       "2021-07-29 23:59:21     0.000    0.784     0.216    0.7003  \n",
       "2021-07-29 23:59:28     0.000    1.000     0.000    0.0000  \n",
       "2021-07-29 23:59:52     0.000    0.915     0.085    0.3291  \n",
       "\n",
       "[331234 rows x 8 columns]"
      ]
     },
     "execution_count": 40,
     "metadata": {},
     "output_type": "execute_result"
    }
   ],
   "source": [
    "vader_df"
   ]
  },
  {
   "cell_type": "code",
   "execution_count": 41,
   "metadata": {},
   "outputs": [],
   "source": [
    "vader_df.index = pd.to_datetime(vader_df.index)\n",
    "\n",
    "# Initialize a dictionary to store the resampled DataFrames\n",
    "resampled_dfs = {}\n",
    "\n",
    "sentiment_intervals = ['5min', '15min', '30min', 'h']\n",
    "# Resample to intervals and aggregate sentiment scores\n",
    "for interval in sentiment_intervals:\n",
    "    resampled_dfs[interval] = vader_df.resample(interval).agg({\n",
    "        'negative': 'mean',\n",
    "        'neutral': 'mean',\n",
    "        'positive': 'mean',\n",
    "        'compound': 'mean',\n",
    "        'text': 'count'\n",
    "    })"
   ]
  },
  {
   "cell_type": "code",
   "execution_count": 19,
   "metadata": {},
   "outputs": [
    {
     "data": {
      "text/plain": [
       "dict_keys(['5min', '15min', '30min', 'h'])"
      ]
     },
     "execution_count": 19,
     "metadata": {},
     "output_type": "execute_result"
    }
   ],
   "source": [
    "resampled_dfs.keys()"
   ]
  },
  {
   "cell_type": "code",
   "execution_count": 33,
   "metadata": {},
   "outputs": [],
   "source": [
    "np.save('resampled_sentiment.npy', resampled_dfs) "
   ]
  },
  {
   "cell_type": "markdown",
   "metadata": {},
   "source": [
    "### merging price and sentiment data based on their intervals"
   ]
  },
  {
   "cell_type": "code",
   "execution_count": 136,
   "metadata": {},
   "outputs": [],
   "source": [
    "def plot_scatters(df, rows, columns, results_directory, interval):\n",
    "    \"\"\"\n",
    "    for the columns and rows it plots the scatter and save the figure to the given address\n",
    "    save the address as results_directory/scatter-row-column.jpg or whatever\n",
    "    \n",
    "    \"\"\"\n",
    "    plt.figure(figsize=(20, 30))\n",
    "    # rows = [\"compound\", \"positive\", \"negative\", \"neutral\"]\n",
    "    # columns = [\"close\", \"open\", \"volume\"]\n",
    "    index = 1\n",
    "    for row in rows:\n",
    "        for column in columns:\n",
    "            plt.subplot(len(rows), len(columns), index)\n",
    "            plt.title(f\"col: {column}, row: {row}\")\n",
    "            plt.scatter(x=df[column], y=df[row], s=df.text)\n",
    "            missing_values = np.isnan(df[column]) | np.isnan(df[row])\n",
    "            correlation_coefficient = np.corrcoef(df[column][~missing_values], df[row][~missing_values])[0, 1]\n",
    "            plt.text(0.05, 0.95, f'Corr: {correlation_coefficient:.2f}', \n",
    "                     horizontalalignment='left', verticalalignment='top', \n",
    "                     transform=plt.gca().transAxes, fontsize=10)\n",
    "            index += 1\n",
    "    plt.savefig(f'{results_directory}\\\\{interval}.png')\n",
    "    plt.close()\n",
    "\n",
    "roc = lambda x: (x / x.shift(1) - 1)"
   ]
  },
  {
   "cell_type": "code",
   "execution_count": 73,
   "metadata": {},
   "outputs": [],
   "source": [
    "m5 = pd.concat([historical_dfs[300], resampled_dfs[\"5min\"]], axis=1)\n",
    "h1 = pd.concat([historical_dfs[3600], resampled_dfs[\"h\"]], axis=1)"
   ]
  },
  {
   "cell_type": "code",
   "execution_count": 74,
   "metadata": {},
   "outputs": [
    {
     "data": {
      "text/html": [
       "<div>\n",
       "<style scoped>\n",
       "    .dataframe tbody tr th:only-of-type {\n",
       "        vertical-align: middle;\n",
       "    }\n",
       "\n",
       "    .dataframe tbody tr th {\n",
       "        vertical-align: top;\n",
       "    }\n",
       "\n",
       "    .dataframe thead th {\n",
       "        text-align: right;\n",
       "    }\n",
       "</style>\n",
       "<table border=\"1\" class=\"dataframe\">\n",
       "  <thead>\n",
       "    <tr style=\"text-align: right;\">\n",
       "      <th></th>\n",
       "      <th>open</th>\n",
       "      <th>high</th>\n",
       "      <th>low</th>\n",
       "      <th>close</th>\n",
       "      <th>volume</th>\n",
       "      <th>trade</th>\n",
       "      <th>negative</th>\n",
       "      <th>neutral</th>\n",
       "      <th>positive</th>\n",
       "      <th>compound</th>\n",
       "      <th>text</th>\n",
       "    </tr>\n",
       "  </thead>\n",
       "  <tbody>\n",
       "    <tr>\n",
       "      <th>2021-07-17 12:00:00</th>\n",
       "      <td>31377.01</td>\n",
       "      <td>31570.00</td>\n",
       "      <td>31330.12</td>\n",
       "      <td>31489.01</td>\n",
       "      <td>14325.922</td>\n",
       "      <td>116879</td>\n",
       "      <td>0.035551</td>\n",
       "      <td>0.856775</td>\n",
       "      <td>0.107671</td>\n",
       "      <td>0.212476</td>\n",
       "      <td>960</td>\n",
       "    </tr>\n",
       "    <tr>\n",
       "      <th>2021-07-17 13:00:00</th>\n",
       "      <td>31489.00</td>\n",
       "      <td>31750.00</td>\n",
       "      <td>31329.00</td>\n",
       "      <td>31607.99</td>\n",
       "      <td>29114.409</td>\n",
       "      <td>214698</td>\n",
       "      <td>0.040247</td>\n",
       "      <td>0.848110</td>\n",
       "      <td>0.111610</td>\n",
       "      <td>0.237297</td>\n",
       "      <td>1064</td>\n",
       "    </tr>\n",
       "    <tr>\n",
       "      <th>2021-07-17 14:00:00</th>\n",
       "      <td>31607.99</td>\n",
       "      <td>31738.83</td>\n",
       "      <td>31572.00</td>\n",
       "      <td>31622.35</td>\n",
       "      <td>15550.348</td>\n",
       "      <td>125076</td>\n",
       "      <td>0.035694</td>\n",
       "      <td>0.843100</td>\n",
       "      <td>0.121208</td>\n",
       "      <td>0.287545</td>\n",
       "      <td>1247</td>\n",
       "    </tr>\n",
       "    <tr>\n",
       "      <th>2021-07-17 15:00:00</th>\n",
       "      <td>31621.48</td>\n",
       "      <td>31750.00</td>\n",
       "      <td>31433.72</td>\n",
       "      <td>31737.92</td>\n",
       "      <td>23013.314</td>\n",
       "      <td>164851</td>\n",
       "      <td>0.030764</td>\n",
       "      <td>0.834260</td>\n",
       "      <td>0.134966</td>\n",
       "      <td>0.316867</td>\n",
       "      <td>1223</td>\n",
       "    </tr>\n",
       "    <tr>\n",
       "      <th>2021-07-17 16:00:00</th>\n",
       "      <td>31737.87</td>\n",
       "      <td>31849.00</td>\n",
       "      <td>31614.72</td>\n",
       "      <td>31677.24</td>\n",
       "      <td>24002.979</td>\n",
       "      <td>174697</td>\n",
       "      <td>0.031505</td>\n",
       "      <td>0.837822</td>\n",
       "      <td>0.130668</td>\n",
       "      <td>0.287229</td>\n",
       "      <td>1241</td>\n",
       "    </tr>\n",
       "    <tr>\n",
       "      <th>...</th>\n",
       "      <td>...</td>\n",
       "      <td>...</td>\n",
       "      <td>...</td>\n",
       "      <td>...</td>\n",
       "      <td>...</td>\n",
       "      <td>...</td>\n",
       "      <td>...</td>\n",
       "      <td>...</td>\n",
       "      <td>...</td>\n",
       "      <td>...</td>\n",
       "      <td>...</td>\n",
       "    </tr>\n",
       "    <tr>\n",
       "      <th>2021-07-29 19:00:00</th>\n",
       "      <td>39532.41</td>\n",
       "      <td>39739.06</td>\n",
       "      <td>39451.22</td>\n",
       "      <td>39647.85</td>\n",
       "      <td>10995.427</td>\n",
       "      <td>129231</td>\n",
       "      <td>0.023090</td>\n",
       "      <td>0.862822</td>\n",
       "      <td>0.114080</td>\n",
       "      <td>0.290982</td>\n",
       "      <td>724</td>\n",
       "    </tr>\n",
       "    <tr>\n",
       "      <th>2021-07-29 20:00:00</th>\n",
       "      <td>39647.85</td>\n",
       "      <td>39830.00</td>\n",
       "      <td>39600.00</td>\n",
       "      <td>39715.49</td>\n",
       "      <td>7881.098</td>\n",
       "      <td>102117</td>\n",
       "      <td>0.020093</td>\n",
       "      <td>0.873400</td>\n",
       "      <td>0.106510</td>\n",
       "      <td>0.286185</td>\n",
       "      <td>625</td>\n",
       "    </tr>\n",
       "    <tr>\n",
       "      <th>2021-07-29 21:00:00</th>\n",
       "      <td>39715.49</td>\n",
       "      <td>39761.11</td>\n",
       "      <td>39465.66</td>\n",
       "      <td>39522.27</td>\n",
       "      <td>9108.069</td>\n",
       "      <td>107487</td>\n",
       "      <td>0.025932</td>\n",
       "      <td>0.862483</td>\n",
       "      <td>0.111586</td>\n",
       "      <td>0.274966</td>\n",
       "      <td>497</td>\n",
       "    </tr>\n",
       "    <tr>\n",
       "      <th>2021-07-29 22:00:00</th>\n",
       "      <td>39522.61</td>\n",
       "      <td>39812.34</td>\n",
       "      <td>39506.81</td>\n",
       "      <td>39773.85</td>\n",
       "      <td>9615.746</td>\n",
       "      <td>111277</td>\n",
       "      <td>0.020245</td>\n",
       "      <td>0.868178</td>\n",
       "      <td>0.111570</td>\n",
       "      <td>0.300249</td>\n",
       "      <td>477</td>\n",
       "    </tr>\n",
       "    <tr>\n",
       "      <th>2021-07-29 23:00:00</th>\n",
       "      <td>39773.85</td>\n",
       "      <td>40400.00</td>\n",
       "      <td>39757.00</td>\n",
       "      <td>40012.90</td>\n",
       "      <td>31826.597</td>\n",
       "      <td>281361</td>\n",
       "      <td>0.029395</td>\n",
       "      <td>0.868527</td>\n",
       "      <td>0.102078</td>\n",
       "      <td>0.209678</td>\n",
       "      <td>939</td>\n",
       "    </tr>\n",
       "  </tbody>\n",
       "</table>\n",
       "<p>300 rows × 11 columns</p>\n",
       "</div>"
      ],
      "text/plain": [
       "                         open      high       low     close     volume  \\\n",
       "2021-07-17 12:00:00  31377.01  31570.00  31330.12  31489.01  14325.922   \n",
       "2021-07-17 13:00:00  31489.00  31750.00  31329.00  31607.99  29114.409   \n",
       "2021-07-17 14:00:00  31607.99  31738.83  31572.00  31622.35  15550.348   \n",
       "2021-07-17 15:00:00  31621.48  31750.00  31433.72  31737.92  23013.314   \n",
       "2021-07-17 16:00:00  31737.87  31849.00  31614.72  31677.24  24002.979   \n",
       "...                       ...       ...       ...       ...        ...   \n",
       "2021-07-29 19:00:00  39532.41  39739.06  39451.22  39647.85  10995.427   \n",
       "2021-07-29 20:00:00  39647.85  39830.00  39600.00  39715.49   7881.098   \n",
       "2021-07-29 21:00:00  39715.49  39761.11  39465.66  39522.27   9108.069   \n",
       "2021-07-29 22:00:00  39522.61  39812.34  39506.81  39773.85   9615.746   \n",
       "2021-07-29 23:00:00  39773.85  40400.00  39757.00  40012.90  31826.597   \n",
       "\n",
       "                      trade  negative   neutral  positive  compound  text  \n",
       "2021-07-17 12:00:00  116879  0.035551  0.856775  0.107671  0.212476   960  \n",
       "2021-07-17 13:00:00  214698  0.040247  0.848110  0.111610  0.237297  1064  \n",
       "2021-07-17 14:00:00  125076  0.035694  0.843100  0.121208  0.287545  1247  \n",
       "2021-07-17 15:00:00  164851  0.030764  0.834260  0.134966  0.316867  1223  \n",
       "2021-07-17 16:00:00  174697  0.031505  0.837822  0.130668  0.287229  1241  \n",
       "...                     ...       ...       ...       ...       ...   ...  \n",
       "2021-07-29 19:00:00  129231  0.023090  0.862822  0.114080  0.290982   724  \n",
       "2021-07-29 20:00:00  102117  0.020093  0.873400  0.106510  0.286185   625  \n",
       "2021-07-29 21:00:00  107487  0.025932  0.862483  0.111586  0.274966   497  \n",
       "2021-07-29 22:00:00  111277  0.020245  0.868178  0.111570  0.300249   477  \n",
       "2021-07-29 23:00:00  281361  0.029395  0.868527  0.102078  0.209678   939  \n",
       "\n",
       "[300 rows x 11 columns]"
      ]
     },
     "execution_count": 74,
     "metadata": {},
     "output_type": "execute_result"
    }
   ],
   "source": [
    "h1"
   ]
  },
  {
   "cell_type": "code",
   "execution_count": 76,
   "metadata": {},
   "outputs": [
    {
     "data": {
      "text/plain": [
       "count    300.000000\n",
       "mean       0.030006\n",
       "std        0.007241\n",
       "min        0.002973\n",
       "25%        0.025924\n",
       "50%        0.029501\n",
       "75%        0.034566\n",
       "max        0.054945\n",
       "Name: negative, dtype: float64"
      ]
     },
     "execution_count": 76,
     "metadata": {},
     "output_type": "execute_result"
    }
   ],
   "source": [
    "h1.negative.describe()"
   ]
  },
  {
   "cell_type": "code",
   "execution_count": 45,
   "metadata": {},
   "outputs": [
    {
     "data": {
      "text/plain": [
       "2021-07-17 12:00:00       NaN\n",
       "2021-07-17 12:05:00     47.85\n",
       "2021-07-17 12:10:00     26.98\n",
       "2021-07-17 12:15:00     -4.83\n",
       "2021-07-17 12:20:00     44.27\n",
       "                        ...  \n",
       "2021-07-29 23:35:00      3.27\n",
       "2021-07-29 23:40:00    -44.93\n",
       "2021-07-29 23:45:00   -139.16\n",
       "2021-07-29 23:50:00     54.47\n",
       "2021-07-29 23:55:00      7.62\n",
       "Name: close, Length: 3600, dtype: float64"
      ]
     },
     "execution_count": 45,
     "metadata": {},
     "output_type": "execute_result"
    }
   ],
   "source": [
    "# plt.scatter(x=m5.negative[1:], y=m5.close.diff())\n",
    "m5.close.diff()"
   ]
  },
  {
   "cell_type": "code",
   "execution_count": 137,
   "metadata": {},
   "outputs": [],
   "source": [
    "\n",
    "m5 = pd.concat([historical_dfs[300], resampled_dfs[\"5min\"]], axis=1)\n",
    "m15 = pd.concat([historical_dfs[900], resampled_dfs[\"15min\"]], axis=1)\n",
    "m30 = pd.concat([historical_dfs[1800], resampled_dfs[\"30min\"]], axis=1)\n",
    "h1 = pd.concat([historical_dfs[3600], resampled_dfs[\"h\"]], axis=1)\n",
    "intervals = [{\"m5\": m5},{\"m15\":m15},{\"m30\":m30},{\"h1\":h1}]\n",
    "columns = ['negative', 'neutral', 'positive', 'compound']\n",
    "rows = ['roc', 'volume_roc']\n",
    "# write a for loop that iterates on all given intervals and merges the sentiment, historical dataframe and plots the scatters\n",
    "for interval in intervals:\n",
    "    interval_name = list(interval.keys())[0]\n",
    "    interval_df = list(interval.values())[0]\n",
    "    interval_df[\"roc\"] = roc(interval_df[\"close\"])\n",
    "    interval_df[\"volume_roc\"] = roc(interval_df[\"volume\"])\n",
    "    plot_scatters(interval_df, columns, rows, RESULT_DIRESTORY, interval_name)"
   ]
  },
  {
   "cell_type": "markdown",
   "metadata": {},
   "source": [
    "### calculating the cross correlation between sentiment and price"
   ]
  },
  {
   "cell_type": "code",
   "execution_count": 103,
   "metadata": {},
   "outputs": [],
   "source": [
    "m5_roc_compound[\"roc\"] = (m5_roc_compound[\"close\"] / m5_roc_compound[\"close\"].shift(1) - 1)"
   ]
  },
  {
   "cell_type": "code",
   "execution_count": 104,
   "metadata": {},
   "outputs": [],
   "source": [
    "m5_roc_compound[\"compound_diffs\"] = m5_roc_compound[\"compound\"] / m5_roc_compound[\"compound\"].shift(1) -1"
   ]
  },
  {
   "cell_type": "code",
   "execution_count": 105,
   "metadata": {},
   "outputs": [
    {
     "data": {
      "text/plain": [
       "<matplotlib.legend.Legend at 0x7f49eec72cd0>"
      ]
     },
     "execution_count": 105,
     "metadata": {},
     "output_type": "execute_result"
    },
    {
     "data": {
      "image/png": "[encoded data removed]",
      "text/plain": [
       "<Figure size 1000x600 with 2 Axes>"
      ]
     },
     "metadata": {},
     "output_type": "display_data"
    }
   ],
   "source": [
    "plt.figure(figsize=(10, 6))\n",
    "plt.subplot(2, 1, 1)\n",
    "plt.plot(m5_roc_compound.index, m5_roc_compound[\"compound_diffs\"], label=\"sentiment\")\n",
    "plt.subplot(2, 1, 2)\n",
    "plt.plot(m5_roc_compound.index, m5_roc_compound[\"roc\"], label=\"price\")\n",
    "plt.legend()"
   ]
  },
  {
   "cell_type": "code",
   "execution_count": null,
   "metadata": {},
   "outputs": [],
   "source": []
  },
  {
   "cell_type": "markdown",
   "metadata": {},
   "source": [
    "### selecting the suitable MA/EMA hyperparameter (assuming the context improves the sentiment index)"
   ]
  },
  {
   "cell_type": "markdown",
   "metadata": {},
   "source": [
    "### storing the selected index as a dataset to be used later"
   ]
  }
 ],
 "metadata": {
  "kernelspec": {
   "display_name": "Python 3 (ipykernel)",
   "language": "python",
   "name": "python3"
  },
  "language_info": {
   "codemirror_mode": {
    "name": "ipython",
    "version": 3
   },
   "file_extension": ".py",
   "mimetype": "text/x-python",
   "name": "python",
   "nbconvert_exporter": "python",
   "pygments_lexer": "ipython3",
   "version": "3.11.8"
  }
 },
 "nbformat": 4,
 "nbformat_minor": 4
}
