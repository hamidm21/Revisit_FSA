{
 "cells": [
  {
   "cell_type": "markdown",
   "metadata": {},
   "source": [
    "# Impact Aware Embeddings\n",
    "- reading textual and price datasets\n",
    "- labeling the price dataset and merging with textual dataset\n",
    "- finetuning the embedding model on labelings to make it impact aware\n",
    "- evaluating the results and comparing with normal embeddings"
   ]
  }
 ],
 "metadata": {
  "language_info": {
   "name": "python"
  }
 },
 "nbformat": 4,
 "nbformat_minor": 2
}
