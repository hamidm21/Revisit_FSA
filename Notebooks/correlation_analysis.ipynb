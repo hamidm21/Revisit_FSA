{
 "cells": [
  {
   "cell_type": "markdown",
   "metadata": {},
   "source": [
    "## Correlation Analysis\n",
    "Here we go through these stages one by one:\n",
    "1. importing packages\n",
    "2. loading the data and creating the datasets\n",
    "3. preprocessing the datasets\n",
    "4. selecting the suitable interval for the analysis using cross-correlation\n",
    "5. selecting the suitable MA/EMA hyperparameter (assuming context improves sentiment index)\n",
    "6. storing the selected index as a dataset to be used later"
   ]
  },
  {
   "cell_type": "markdown",
   "metadata": {},
   "source": [
    "### importing packages"
   ]
  },
  {
   "cell_type": "markdown",
   "metadata": {},
   "source": [
    "### loading the data and creating the datasets"
   ]
  },
  {
   "cell_type": "markdown",
   "metadata": {},
   "source": [
    "### preprocessing the datasets"
   ]
  },
  {
   "cell_type": "markdown",
   "metadata": {},
   "source": [
    "### selecting the suitable interval for the analysis using cross-correlation"
   ]
  },
  {
   "cell_type": "markdown",
   "metadata": {},
   "source": [
    "### selecting the suitable MA/EMA hyperparameter (assuming the context improves the sentiment index)"
   ]
  },
  {
   "cell_type": "markdown",
   "metadata": {},
   "source": [
    "### storing the selected index as a dataset to be used later"
   ]
  }
 ],
 "metadata": {
  "language_info": {
   "name": "python"
  }
 },
 "nbformat": 4,
 "nbformat_minor": 2
}
